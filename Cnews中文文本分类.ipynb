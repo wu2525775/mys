{
 "cells": [
  {
   "cell_type": "code",
   "execution_count": 1,
   "metadata": {},
   "outputs": [
    {
     "name": "stderr",
     "output_type": "stream",
     "text": [
      "Using TensorFlow backend.\n"
     ]
    },
    {
     "name": "stdout",
     "output_type": "stream",
     "text": [
      "x_train= [[1609  659   56 ...    9  311    3]\n",
      " [   2  101   16 ... 1168    3   24]\n",
      " [ 465  855  521 ...  116  136   85]\n",
      " ...\n",
      " [  49   18   79 ...  836 1928 1072]\n",
      " [ 166  110  714 ...  836 1928 1072]\n",
      " [   1   80  551 ...   78  192    3]]\n"
     ]
    }
   ],
   "source": [
    "from torch import nn\n",
    "from torch import optim\n",
    "from model import TextRNN\n",
    "from cnews_loader import read_category,read_vocab,process_file\n",
    "import torch.utils.data as Data\n",
    "import numpy as np\n",
    "import torch\n",
    "\n",
    "train_file = 'cnews.train.txt'\n",
    "test_file = 'cnews.test.txt'\n",
    "val_file = 'cnews.val.txt'\n",
    "vocab_file = 'cnews.vocab.txt'\n",
    "\n",
    "def train():\n",
    "    #使用TextRNN\n",
    "    model = TextRNN()#.cuda()\n",
    "    #损失函数\n",
    "    loss = nn.MultiLabelMarginLoss()\n",
    "    optimizer = optim.Adam(model.parameters(), lr = 0.001)\n",
    "    best_val_acc = 0\n",
    "    \n",
    "    for epoch in range(1000):\n",
    "        print('epoch',epoch)\n",
    "        for step,(x_batch,y_batch) in enumerate(train_loader):\n",
    "            x = x_batch#.cuda()\n",
    "            y = y_batch#.cuda()\n",
    "            out = model(x)\n",
    "            loss = loss(out,y)\n",
    "            print('loss=', loss)\n",
    "            #反向传播\n",
    "            optimizer.zero_grad()\n",
    "            loss.backward()\n",
    "            optimizer.step()\n",
    "            #计算准确率\n",
    "            accuracy = np.mean((torch.argmax(out,1)==torch,argmax(y,1)).cpu().numpy())\n",
    "            print(accuracy)\n",
    "            \n",
    "            #对模型进行验证\n",
    "            if (epoch+1)%5 == 0:\n",
    "                for step,(x_batch,y_batch) in enumerate(val_loader):\n",
    "                    x = x_batch#.cuda()\n",
    "                    y = y_batch#.cuda()\n",
    "                    out = model(x)\n",
    "                    #计算准确率\n",
    "                    accuracy = np.mean((torch.argmax(out,1)==torch,argmax(y,1)).cpu().numpy())\n",
    "                    if accuracy > best_val_acc:\n",
    "                        torch.save(model.state_dict(),'model_params.pkl')\n",
    "                        best_val_acc = accuracy\n",
    "                        pritn(accuracys)\n",
    "            \n",
    " \n",
    "# 获取文本的类别及其对应id的字典\n",
    "categories, cat_to_id = read_category()\n",
    "#print(categories)\n",
    "# 获取训练文本中所有出现过的字及其所对应的id\n",
    "words, word_to_id = read_vocab('cnews.vocab.txt')\n",
    "#print(words)\n",
    "#print(word_to_id)\n",
    "#print(word_to_id)\n",
    "#获取字数\n",
    "vocab_size = len(words)\n",
    "\n",
    "# 数据加载及分批\n",
    "# 获取训练数据每个字的id和对应标签的one-hot形式\n",
    "x_train, y_train = process_file('cnews.train.txt', word_to_id, cat_to_id, 600)\n",
    "print('x_train=', x_train)\n",
    "x_val, y_val = process_file('cnews.val.txt', word_to_id, cat_to_id, 600)\n",
    "\n",
    "x_train, y_train = torch.LongTensor(x_train),torch.Tensor(y_train)\n",
    "x_val,y_val = torch.LongTensor(x_val),torch.Tensor(y_val)\n",
    "\n",
    "train_dataset = Data.TensorDataset(x_train,y_train)\n",
    "train_loader = Data.DataLoader(dataset=train_dataset,batch_size=1000,\n",
    "                              shuffle=True,num_workers=2)\n",
    "val_dataset = Data.TensorDataset(x_val,y_val)\n",
    "val_loader = Data.DataLoader(dataset=val_dataset,batch_size=1000,\n",
    "                            shuffle=True,num_workers=2)\n"
   ]
  },
  {
   "cell_type": "code",
   "execution_count": null,
   "metadata": {},
   "outputs": [
    {
     "name": "stdout",
     "output_type": "stream",
     "text": [
      "epoch 0\n"
     ]
    }
   ],
   "source": [
    "train()"
   ]
  },
  {
   "cell_type": "code",
   "execution_count": 2,
   "metadata": {},
   "outputs": [
    {
     "name": "stdout",
     "output_type": "stream",
     "text": [
      "《时光重返四十二难》恶搞唐增取经一款时下最热门的动画人物：猪猪侠，加上创新的故事背景，震撼的操作快感，成就了这部恶搞新作，现正恶搞上市，玩家们抢先赶快体验快感吧。游戏简介：被时光隧道传送到208年的猪猪侠，必须经历六七四十二难的考验，才能借助柯伊诺尔大钻石的力量，开启时光隧道，重返2008年。在迷糊老师、菲菲公主的帮助下，猪猪侠接受了挑战，开始了这段充满了关心和情谊的旅程。    更多精彩震撼感觉，立即下载该款游戏尽情体验吧。玩家交流才是王道，讯易游戏玩家交流中心 QQ群：6306852-----------------生活要有激情，游戏要玩多彩(多彩游戏)。Colourfulgame (多彩游戏)，让你看看快乐游戏的颜色！精品推荐：1：《钟馗传》大战无头关羽，悲壮的剧情伴随各朝英灵反攻地府！2：《中华群英》将和赵云，项羽，岳飞等猛将作战，穿越各朝代抗击日寇。良品推荐：1：《赌王争霸之斗地主》易飞会在四角恋中会选择谁？是否最终成赌神呢？2：勇者后裔和魔王紧缠一起，前代恩怨《圣火伏魔录》将为您揭示一切。  3：颠覆传统概念，恶搞+非主流？！誓必弄死搞残为止《爆笑飞行棋》。4：《中国象棋残局大师》快棋和人机模式让畅快对弈！一切“多彩游戏”资讯，点击Colourfulgame官网http://www.colourfulgame.com一切“多彩游戏”感言，交流Colourfulgame论坛http://121.33.203.124/forum/【客服邮箱】：xunyiwangluo@126.com\">xunyiwangluo@126.com\">xunyiwangluo@126.com【客服热线】：020-87588437 : 游戏\n"
     ]
    },
    {
     "name": "stderr",
     "output_type": "stream",
     "text": [
      "D:\\Users\\kid\\Anaconda3\\lib\\site-packages\\torch\\nn\\modules\\container.py:92: UserWarning: Implicit dimension choice for softmax has been deprecated. Change the call to include dim=X as an argument.\n",
      "  input = module(input)\n"
     ]
    }
   ],
   "source": [
    "# 测试\n",
    "import keras as kr\n",
    "import torch\n",
    "from torch import nn\n",
    "from cnews_loader import read_category, read_vocab\n",
    "from model import TextRNN\n",
    "import numpy as np\n",
    " \n",
    "vocab_file = 'cnews.vocab.txt'\n",
    " \n",
    "class RnnModel:\n",
    "    def __init__(self):\n",
    "        self.categories, self.cat_to_id = read_category()\n",
    "        self.words, self.word_to_id = read_vocab(vocab_file)\n",
    "        self.model = TextRNN()\n",
    "        self.model.load_state_dict(torch.load('model_params.pkl'))\n",
    " \n",
    "    def predict(self, message):\n",
    "        content = message\n",
    "        data = [self.word_to_id[x] for x in content if x in self.word_to_id]\n",
    "        data = kr.preprocessing.sequence.pad_sequences([data], 600)\n",
    "        data = torch.LongTensor(data)\n",
    "        y_pred_cls = self.model(data)\n",
    "        class_index = torch.argmax(y_pred_cls[0]).item()\n",
    "        return self.categories[class_index]\n",
    " \n",
    " \n",
    "if __name__ == '__main__':\n",
    "    model = RnnModel()\n",
    "    test_demo = ['《时光重返四十二难》恶搞唐增取经一款时下最热门的动画人物：猪猪侠，加上创新的故事背景，震撼的操作快感，成就了这部恶搞新作，现正恶搞上市，玩家们抢先赶快体验快感吧。游戏简介：被时光隧道传送到208年的猪猪侠，必须经历六七四十二难的考验，才能借助柯伊诺尔大钻石的力量，开启时光隧道，重返2008年。在迷糊老师、菲菲公主的帮助下，猪猪侠接受了挑战，开始了这段充满了关心和情谊的旅程。    更多精彩震撼感觉，立即下载该款游戏尽情体验吧。玩家交流才是王道，讯易游戏玩家交流中心 QQ群：6306852-----------------生活要有激情，游戏要玩多彩(多彩游戏)。Colourfulgame (多彩游戏)，让你看看快乐游戏的颜色！精品推荐：1：《钟馗传》大战无头关羽，悲壮的剧情伴随各朝英灵反攻地府！2：《中华群英》将和赵云，项羽，岳飞等猛将作战，穿越各朝代抗击日寇。良品推荐：1：《赌王争霸之斗地主》易飞会在四角恋中会选择谁？是否最终成赌神呢？2：勇者后裔和魔王紧缠一起，前代恩怨《圣火伏魔录》将为您揭示一切。  3：颠覆传统概念，恶搞+非主流？！誓必弄死搞残为止《爆笑飞行棋》。4：《中国象棋残局大师》快棋和人机模式让畅快对弈！一切“多彩游戏”资讯，点击Colourfulgame官网http://www.colourfulgame.com一切“多彩游戏”感言，交流Colourfulgame论坛http://121.33.203.124/forum/【客服邮箱】：xunyiwangluo@126.com\">xunyiwangluo@126.com\">xunyiwangluo@126.com【客服热线】：020-87588437']\n",
    "                 \n",
    "    for i in test_demo:\n",
    "        print(i,\":\",model.predict(i))"
   ]
  },
  {
   "cell_type": "code",
   "execution_count": null,
   "metadata": {},
   "outputs": [],
   "source": []
  }
 ],
 "metadata": {
  "kernelspec": {
   "display_name": "Python 3",
   "language": "python",
   "name": "python3"
  },
  "language_info": {
   "codemirror_mode": {
    "name": "ipython",
    "version": 3
   },
   "file_extension": ".py",
   "mimetype": "text/x-python",
   "name": "python",
   "nbconvert_exporter": "python",
   "pygments_lexer": "ipython3",
   "version": "3.7.5"
  }
 },
 "nbformat": 4,
 "nbformat_minor": 4
}
