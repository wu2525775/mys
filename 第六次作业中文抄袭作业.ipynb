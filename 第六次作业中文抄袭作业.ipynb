{
 "cells": [
  {
   "cell_type": "code",
   "execution_count": 1,
   "metadata": {},
   "outputs": [
    {
     "name": "stderr",
     "output_type": "stream",
     "text": [
      "C:\\ProgramData\\Anaconda3\\lib\\importlib\\_bootstrap.py:219: RuntimeWarning: numpy.ufunc size changed, may indicate binary incompatibility. Expected 192 from C header, got 216 from PyObject\n",
      "  return f(*args, **kwds)\n",
      "C:\\ProgramData\\Anaconda3\\lib\\importlib\\_bootstrap.py:219: RuntimeWarning: numpy.ufunc size changed, may indicate binary incompatibility. Expected 192 from C header, got 216 from PyObject\n",
      "  return f(*args, **kwds)\n"
     ]
    }
   ],
   "source": [
    "import numpy as np\n",
    "import pandas as pd\n",
    "import jieba\n",
    "from sklearn.feature_extraction.text import CountVectorizer,TfidfTransformer"
   ]
  },
  {
   "cell_type": "code",
   "execution_count": 4,
   "metadata": {},
   "outputs": [
    {
     "name": "stdout",
     "output_type": "stream",
     "text": [
      "(89611, 7)\n",
      "      id      author                  source  \\\n",
      "0  89617         NaN  快科技@http://www.kkj.cn/   \n",
      "1  89616         NaN  快科技@http://www.kkj.cn/   \n",
      "2  89615         NaN  快科技@http://www.kkj.cn/   \n",
      "3  89614         NaN                     新华社   \n",
      "4  89613  胡淑丽_MN7479                   深圳大件事   \n",
      "\n",
      "                                             content  \\\n",
      "0  此外，自本周（6月12日）起，除小米手机6等15款机型外，其余机型已暂停更新发布（含开发版/...   \n",
      "1  骁龙835作为唯一通过Windows 10桌面平台认证的ARM处理器，高通强调，不会因为只考...   \n",
      "2  此前的一加3T搭载的是3400mAh电池，DashCharge快充规格为5V/4A。\\r\\n...   \n",
      "3    这是6月18日在葡萄牙中部大佩德罗冈地区拍摄的被森林大火烧毁的汽车。新华社记者张立云摄\\r\\n   \n",
      "4  （原标题：44岁女子跑深圳约会网友被拒，暴雨中裸身奔走……）\\r\\n@深圳交警微博称：昨日清...   \n",
      "\n",
      "                                             feature  \\\n",
      "0  {\"type\":\"科技\",\"site\":\"cnbeta\",\"commentNum\":\"37\"...   \n",
      "1  {\"type\":\"科技\",\"site\":\"cnbeta\",\"commentNum\":\"15\"...   \n",
      "2  {\"type\":\"科技\",\"site\":\"cnbeta\",\"commentNum\":\"18\"...   \n",
      "3  {\"type\":\"国际新闻\",\"site\":\"环球\",\"commentNum\":\"0\",\"j...   \n",
      "4  {\"type\":\"新闻\",\"site\":\"网易热门\",\"commentNum\":\"978\",...   \n",
      "\n",
      "                           title  \\\n",
      "0           小米MIUI 9首批机型曝光：共计15款   \n",
      "1     骁龙835在Windows 10上的性能表现有望改善   \n",
      "2      一加手机5细节曝光：3300mAh、充半小时用1天   \n",
      "3  葡森林火灾造成至少62人死亡 政府宣布进入紧急状态（组图）   \n",
      "4       44岁女子约网友被拒暴雨中裸奔 交警为其披衣相随   \n",
      "\n",
      "                                                 url  \n",
      "0     http://www.cnbeta.com/articles/tech/623597.htm  \n",
      "1     http://www.cnbeta.com/articles/tech/623599.htm  \n",
      "2     http://www.cnbeta.com/articles/tech/623601.htm  \n",
      "3  http://world.huanqiu.com/hot/2017-06/10866126....  \n",
      "4  http://news.163.com/17/0618/00/CN617P3Q0001875...  \n"
     ]
    }
   ],
   "source": [
    "with open('chinese_stopwords.txt','r',encoding='utf-8')as file:\n",
    "    #加载停用词\n",
    "    stopwords = [i[:-1] for i in file.readlines()]\n",
    "    #数据加载\n",
    "    news = pd.read_csv('sqlResult.csv',encoding='_gb18030')\n",
    "    print(news.shape)\n",
    "    print(news.head())"
   ]
  },
  {
   "cell_type": "code",
   "execution_count": 7,
   "metadata": {},
   "outputs": [
    {
     "name": "stdout",
     "output_type": "stream",
     "text": [
      "Empty DataFrame\n",
      "Columns: [id, author, source, content, feature, title, url]\n",
      "Index: []\n",
      "(87054, 7)\n",
      "此外，自本周（6月12日）起，除小米手机6等15款机型外，其余机型已暂停更新发布（含开发版/体验版内测，稳定版暂不受影响），以确保工程师可以集中全部精力进行系统优化工作。有人猜测这也是将精力主要用到MIUI 9的研发之中。\n",
      "MIUI 8去年5月发布，距今已有一年有余，也是时候更新换代了。\n",
      "当然，关于MIUI 9的确切信息，我们还是等待官方消息。\n",
      "\n",
      " 当然 MIUI9 确切 信息 等待 官方消息 更新换代  发布 含 开发 版 体验版 内测 稳定版 暂不受 影响 确保 工程师 集中 全部 精力 进行 系统优化 工作 有人 猜测 精力 主要 用到 MIUI9 研发 之中 \n",
      " 当然 MIUI9 确切 信息 等待 官方消息 更新换代  发布 含 开发 版 体验版 内测 稳定版 暂不受 影响 确保 工程师 集中 全部 精力 进行 系统优化 工作 有人 猜测 精力 主要 用到 MIUI9 研发 之中 \n",
      "87054\n",
      " 当然 高通 骁龙 未来 也许 见到 三星 Exynos 联发科 华为 麒麟 小米 澎湃 进入 Windows10 桌面 平台30% PCB 空间 找到 一种 适合 桌面 平台 兼顾 性能 功耗 完美 方案 \n"
     ]
    }
   ],
   "source": [
    "#处理缺失值\n",
    "print(news[news.content.isna()].head())\n",
    "news = news.dropna(subset=['content'])\n",
    "print(news.shape)\n",
    "#分词\n",
    "def split_text(text):\n",
    "    text = text.replace(' ','')\n",
    "    text = text.replace('\\n','')\n",
    "    text2 = jieba.cut(text.strip())\n",
    "    result = ' '.join([w for w in text2 if w not in stopwords])\n",
    "    return result\n",
    "print(news.iloc[0].content)\n",
    "print(split_text(news.iloc[0].content))\n",
    "import pickle,os\n",
    "if not os.path.exists('corpus.pkl'):\n",
    "\n",
    "    corpus = list(map(split_text,[str(i) for i in news.content]))\n",
    "    print(corpus[0])\n",
    "    print(len(corpus))\n",
    "    print(corpus[1])\n",
    "    with open('corpus.pkl','wb')as file:\n",
    "        pickle.dump(corpus,file)\n",
    "else:\n",
    "    #调用上次的处理结果\n",
    "    with open('corpus.pkl','rb') as file:\n",
    "        corpus = pickle.load(file)\n",
    "    "
   ]
  },
  {
   "cell_type": "code",
   "execution_count": 10,
   "metadata": {},
   "outputs": [
    {
     "name": "stdout",
     "output_type": "stream",
     "text": [
      "(87054, 884)\n"
     ]
    }
   ],
   "source": [
    "#计算corpus的TF-IDF矩阵\n",
    "countvectorizer = CountVectorizer(encoding='gb18030',min_df=0.015)\n",
    "tfidftransformer = TfidfTransformer()\n",
    "countvector = countvectorizer.fit_transform(corpus)\n",
    "tfidf = tfidftransformer.fit_transform(countvector)\n",
    "print(tfidf.shape)"
   ]
  },
  {
   "cell_type": "code",
   "execution_count": 12,
   "metadata": {},
   "outputs": [
    {
     "name": "stdout",
     "output_type": "stream",
     "text": [
      "可疑文章数 2828\n"
     ]
    }
   ],
   "source": [
    "# 标记是否是自己的新闻\n",
    "label = list(map(lambda source: 1 if '新华' in str(source) else 0,news.source ))\n",
    "from sklearn.model_selection import train_test_split\n",
    "from sklearn.naive_bayes import MultinomialNB\n",
    "#数据切分\n",
    "X_train, X_test, y_train, y_test = train_test_split(tfidf.toarray(), label,test_size=0.3,random_state=33)\n",
    "clf = MultinomialNB()\n",
    "#分类器使用fit 和predict\n",
    "clf.fit(X_train,y_train)\n",
    "prediction = clf.predict(tfidf.toarray())\n",
    "labels = np.array(label)\n",
    "\n",
    "compare_news_index = pd.DataFrame({'prediction': prediction,'labels':labels})\n",
    "#计算所有可以文章的idnex\n",
    "copy_news_index = compare_news_index[(compare_news_index['prediction']== 1)&(compare_news_index['labels']== 0)].index\n",
    "#计算所有新华文章的index\n",
    "xinhuashe_news_index = compare_news_index[(compare_news_index['labels']==1)].index\n",
    "print('可疑文章数',len(copy_news_index))\n",
    "\n"
   ]
  },
  {
   "cell_type": "code",
   "execution_count": 13,
   "metadata": {},
   "outputs": [
    {
     "name": "stdout",
     "output_type": "stream",
     "text": [
      "k_labels.shape (87054,)\n"
     ]
    }
   ],
   "source": [
    "from sklearn.cluster import KMeans\n",
    "from sklearn import preprocessing\n",
    "from sklearn.preprocessing import Normalizer\n",
    "normalizer = Normalizer()\n",
    "scaled_array = normalizer.fit_transform(tfidf.toarray())\n",
    "if not os.path.exists('label.pkl'):\n",
    "    \n",
    "    #使用Kmeans,对全部文档聚类\n",
    "    kmeans = KMeans(n_clusters=25)\n",
    "    k_labels = kmeans.fit_predict(scaled_array)\n",
    "    with open('label.pkl','wb')as file:\n",
    "        pickle.dump(k_labels,file)\n",
    "    print('k_labels.shape',k_labels.shape)\n",
    "else:\n",
    "    with open('label.pkl','rb')as file:\n",
    "        k_labels = pickle.load(file)"
   ]
  },
  {
   "cell_type": "code",
   "execution_count": 14,
   "metadata": {},
   "outputs": [],
   "source": [
    "#创建id_class\n",
    "if not os.path.exists('id_class.pkl'):\n",
    "    \n",
    "    #创建id_class\n",
    "    id_class = {index:class_ for index,class_ in enumerate(k_labels)}\n",
    "    k_labels = kmeans.fit_predict(scaled_array)\n",
    "    with open('id_class.pkl','wb')as file:\n",
    "        pickle.dump(id_class,file)\n",
    "else:\n",
    "    with open('label.pkl','rb')as file:\n",
    "        id_class= pickle.load(file)"
   ]
  },
  {
   "cell_type": "code",
   "execution_count": 16,
   "metadata": {},
   "outputs": [],
   "source": [
    "if not os.path.exists('class_id.pkl'):\n",
    "    from collections import defaultdict\n",
    "    #创建class_id\n",
    "    class_id = defaultdict(set)\n",
    "    for index,class_ in id_class.items():\n",
    "        #只统计新华社发布的class_id\n",
    "        if index in xinhuashe_news_index.tolist():\n",
    "            class_id[class_].add(index)\n",
    "   \n",
    "    with open('class_id.pkl','wb')as file:\n",
    "        pickle.dump(class_id,file)\n",
    "else:\n",
    "    with open('class_id.pkl','rb')as file:\n",
    "        class_id = pickle.load(file)"
   ]
  },
  {
   "cell_type": "code",
   "execution_count": null,
   "metadata": {},
   "outputs": [],
   "source": [
    "#想找相似文本\n",
    "def find_similar_text(cpindex,top=10):\n",
    "    #只在新华社发布文章中查找\n",
    "    dist_dict = {i:cosine_similarity(tfidf[cpindex], tfidf[i]) for i in class_id[id_class[cpindex]]}\n",
    "    #从大到小进行排序\n",
    "    return sorted(dist_dict.items(), key=lambda x:x[1][0],reverse=True)[:top]\n",
    "cpindex = 3352\n",
    "similar_list = find_similar_text(cpindex)\n",
    "print(similar_list)\n",
    "print('怀疑抄袭:\\n',news.iloc[cpindex].content)\n",
    "#找一片相似的原文\n",
    "similar2 = similar_list[0][0]\n",
    "print('相似原文\\n',news.iloc[similar2].content)\n",
    "\n",
    "import editdistance\n",
    "print('编辑距离:',editdistance.eval(corpus[cpindex],corpus[similar2]))"
   ]
  },
  {
   "cell_type": "code",
   "execution_count": null,
   "metadata": {},
   "outputs": [],
   "source": []
  }
 ],
 "metadata": {
  "kernelspec": {
   "display_name": "Python 3",
   "language": "python",
   "name": "python3"
  },
  "language_info": {
   "codemirror_mode": {
    "name": "ipython",
    "version": 3
   },
   "file_extension": ".py",
   "mimetype": "text/x-python",
   "name": "python",
   "nbconvert_exporter": "python",
   "pygments_lexer": "ipython3",
   "version": "3.7.5"
  }
 },
 "nbformat": 4,
 "nbformat_minor": 2
}
